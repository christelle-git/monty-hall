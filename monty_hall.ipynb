{
 "cells": [
  {
   "cell_type": "code",
   "execution_count": 1,
   "metadata": {},
   "outputs": [],
   "source": [
    "\"\"\"\n",
    "\n",
    " \n",
    "             Monty Hall's Game (using Numpy)\n",
    "             \n",
    "             Rules: \n",
    "             0) The game opposes a presenter and a player.\n",
    "                The game consists of three doors, behind one of the doors\n",
    "                there is a treasure.\n",
    "             1) The player chooses a door among the three.\n",
    "             2) The presenter then eliminates a door that does not hide\n",
    "                the treasure among the two remaining.\n",
    "             3) The player makes one last choice: either he keeps\n",
    "                his original door, or he changes his door.\n",
    "                \n",
    "             Problem:\n",
    "                In step 3), what is the best strategy between keeping\n",
    "                its original door or changing the door?\n",
    "                \n",
    "             Procedure:\n",
    "                To determine the best strategy, a sequence of Monty Hall's \n",
    "                game parts is simulated. Then one counts how many times \n",
    "                the player wins depending on either he keeps or changes \n",
    "                the door in step 3).\n",
    "                The result are depicted on figures below (.ipynb).\n",
    "                \n",
    "             Result:\n",
    "                 The best strategy is to change...\n",
    "\n",
    "\n",
    "\"\"\"\n",
    "\n",
    "%matplotlib inline\n",
    "import matplotlib.pyplot as plt\n",
    "from play_game import *\n",
    "import play_game"
   ]
  },
  {
   "cell_type": "code",
   "execution_count": 2,
   "metadata": {},
   "outputs": [],
   "source": [
    "# play nb_parts games by calling the play function of play_game module\n",
    "nb_parts = 100\n",
    "res_CHANGE = play_game.play(Strategy.CHANGE, nb_parts)\n",
    "res_KEEP = play_game.play(Strategy.KEEP, nb_parts)"
   ]
  },
  {
   "cell_type": "code",
   "execution_count": 3,
   "metadata": {},
   "outputs": [
    {
     "data": {
      "text/plain": [
       "<BarContainer object of 2 artists>"
      ]
     },
     "execution_count": 3,
     "metadata": {},
     "output_type": "execute_result"
    },
    {
     "data": {
      "image/png": "[encoded data removed]",
      "text/plain": [
       "<Figure size 432x288 with 1 Axes>"
      ]
     },
     "metadata": {
      "needs_background": "light"
     },
     "output_type": "display_data"
    }
   ],
   "source": [
    "plt.bar([1,2], (sum(res_CHANGE), sum(res_KEEP)), tick_label=[\"Change\",\"Keep\"])"
   ]
  },
  {
   "cell_type": "code",
   "execution_count": 4,
   "metadata": {},
   "outputs": [
    {
     "data": {
      "image/png": "[encoded data removed]",
      "text/plain": [
       "<Figure size 432x288 with 1 Axes>"
      ]
     },
     "metadata": {
      "needs_background": "light"
     },
     "output_type": "display_data"
    }
   ],
   "source": [
    "gains_change = []\n",
    "gains_keep = []\n",
    "samples =  [1000, 10000, 20000, 50000, 80000, 100000]\n",
    "for tours in samples:\n",
    "    gains_change.append(play_game.play(Strategy.CHANGE, tours))\n",
    "    gains_keep.append(play_game.play(Strategy.KEEP, tours))\n",
    "    \n",
    "figure = plt.figure()\n",
    "plot = plt.scatter(samples, [sum(x) for x in gains_change])\n",
    "plot = plt.scatter(samples, [sum(x) for x in gains_keep])  "
   ]
  }
 ],
 "metadata": {
  "kernelspec": {
   "display_name": "Python 3",
   "language": "python",
   "name": "python3"
  },
  "language_info": {
   "codemirror_mode": {
    "name": "ipython",
    "version": 3
   },
   "file_extension": ".py",
   "mimetype": "text/x-python",
   "name": "python",
   "nbconvert_exporter": "python",
   "pygments_lexer": "ipython3",
   "version": "3.6.7"
  }
 },
 "nbformat": 4,
 "nbformat_minor": 2
}
